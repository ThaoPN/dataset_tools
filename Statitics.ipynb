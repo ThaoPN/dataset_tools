{
 "cells": [
  {
   "cell_type": "code",
   "execution_count": 7,
   "metadata": {},
   "outputs": [],
   "source": [
    "import xml.etree.ElementTree as ET\n",
    "import os"
   ]
  },
  {
   "cell_type": "code",
   "execution_count": 14,
   "metadata": {},
   "outputs": [],
   "source": [
    "ANNOTATION_DIR = '/extHDD2/person_face/train/xml'"
   ]
  },
  {
   "cell_type": "code",
   "execution_count": 15,
   "metadata": {},
   "outputs": [
    {
     "name": "stdout",
     "output_type": "stream",
     "text": [
      "14329 XML files\n",
      "kizon11_コスメコーナー1_2019-05-01T10-01-00_0130.xml\n"
     ]
    }
   ],
   "source": [
    "dict = {}\n",
    "file_count = {}\n",
    "\n",
    "xmls = os.listdir(ANNOTATION_DIR)\n",
    "print('{0} XML files'.format(len(xmls)))\n",
    "print(xmls[-1])\n",
    "for xml in xmls:\n",
    "    if xml.startswith\n",
    "    xml_path = os.path.join(ANNOTATION_DIR, xml)\n",
    "    tree = ET.parse(xml_path)\n",
    "    root = tree.getroot()\n",
    "    \n",
    "    have_face = False\n",
    "    have_person = False\n",
    "    \n",
    "    sub_dict = {}\n",
    "    for element in root:\n",
    "        if element.tag == 'object':\n",
    "            n_ele = element.find('name')\n",
    "            obj_name = n_ele.text\n",
    "            \n",
    "            if n_ele == None:\n",
    "                print(xml)\n",
    "                continue\n",
    "            \n",
    "            if obj_name in dict:\n",
    "                dict[obj_name] += 1\n",
    "            else:\n",
    "                dict[obj_name] = 1"
   ]
  },
  {
   "cell_type": "code",
   "execution_count": 16,
   "metadata": {},
   "outputs": [
    {
     "name": "stdout",
     "output_type": "stream",
     "text": [
      "{'face': 7059, 'person': 30782}\n"
     ]
    }
   ],
   "source": [
    "print(dict)"
   ]
  },
  {
   "cell_type": "code",
   "execution_count": null,
   "metadata": {},
   "outputs": [],
   "source": []
  }
 ],
 "metadata": {
  "kernelspec": {
   "display_name": "Python 3",
   "language": "python",
   "name": "python3"
  },
  "language_info": {
   "codemirror_mode": {
    "name": "ipython",
    "version": 3
   },
   "file_extension": ".py",
   "mimetype": "text/x-python",
   "name": "python",
   "nbconvert_exporter": "python",
   "pygments_lexer": "ipython3",
   "version": "3.6.8"
  }
 },
 "nbformat": 4,
 "nbformat_minor": 2
}
