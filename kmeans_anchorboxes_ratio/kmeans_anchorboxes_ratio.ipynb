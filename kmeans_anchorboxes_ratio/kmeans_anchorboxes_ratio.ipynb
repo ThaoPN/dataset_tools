{
 "cells": [
  {
   "cell_type": "code",
   "execution_count": 1,
   "metadata": {},
   "outputs": [],
   "source": [
    "import numpy as np\n",
    "import glob\n",
    "import xml.etree.ElementTree as ET"
   ]
  },
  {
   "cell_type": "code",
   "execution_count": 4,
   "metadata": {},
   "outputs": [],
   "source": [
    "def iou(box, clusters):\n",
    "    x = np.minimum(clusters[:, 0], box[0])\n",
    "    y = np.minimum(clusters[:, 1], box[1])\n",
    "\n",
    "    intersection = x * y\n",
    "    box_area = box[0] * box[1]\n",
    "    cluster_area = clusters[:, 0] * clusters[:, 1]\n",
    "\n",
    "    iou_ = intersection / (box_area + cluster_area - intersection)\n",
    "\n",
    "    return iou_\n",
    "\n",
    "def avg_iou(boxes, clusters):\n",
    "    \"\"\"\n",
    "    Calculates the average Intersection over Union (IoU) between a numpy array of boxes and k clusters.\n",
    "    :param boxes: numpy array of shape (r, 2), where r is the number of rows\n",
    "    :param clusters: numpy array of shape (k, 2) where k is the number of clusters\n",
    "    :return: average IoU as a single float\n",
    "    \"\"\"\n",
    "    return np.mean([np.max(iou(boxes[i], clusters)) for i in range(boxes.shape[0])])\n",
    "\n",
    "def kmeans(boxes, k, dist=np.median):\n",
    "    rows = boxes.shape[0]\n",
    "\n",
    "    distances = np.empty((rows, k))\n",
    "    last_clusters = np.zeros((rows,))\n",
    "\n",
    "    np.random.seed()\n",
    "\n",
    "    clusters = boxes[np.random.choice(rows, k, replace=False)]\n",
    "\n",
    "    while True:\n",
    "        for row in range(rows):\n",
    "            distances[row] = 1 - iou(boxes[row], clusters)\n",
    "\n",
    "        nearest_clusters = np.argmin(distances, axis=1)\n",
    "\n",
    "        if (last_clusters == nearest_clusters).all():\n",
    "            break\n",
    "\n",
    "        for cluster in range(k):\n",
    "            clusters[cluster] = dist(boxes[nearest_clusters == cluster], axis=0)\n",
    "\n",
    "        last_clusters = nearest_clusters\n",
    "\n",
    "    return clusters\n",
    "\n",
    "def load_dataset(path):\n",
    "    dataset = []\n",
    "    for xml_file in glob.glob(\"{}/*xml\".format(path)):\n",
    "        tree = ET.parse(xml_file)\n",
    "\n",
    "        height = int(tree.findtext(\"./size/height\"))\n",
    "        width = int(tree.findtext(\"./size/width\"))\n",
    "\n",
    "        for obj in tree.iter(\"object\"):\n",
    "            xmin = int(obj.findtext(\"bndbox/xmin\")) / width\n",
    "            ymin = int(obj.findtext(\"bndbox/ymin\")) / height\n",
    "            xmax = int(obj.findtext(\"bndbox/xmax\")) / width\n",
    "            ymax = int(obj.findtext(\"bndbox/ymax\")) / height\n",
    "\n",
    "            dataset.append([xmax - xmin, ymax - ymin])\n",
    "\n",
    "    return np.array(dataset)"
   ]
  },
  {
   "cell_type": "code",
   "execution_count": 5,
   "metadata": {},
   "outputs": [
    {
     "name": "stdout",
     "output_type": "stream",
     "text": [
      "Accuracy: 68.53%\n",
      "Boxes:\n",
      " [[0.025      0.04791667]\n",
      " [0.0640625  0.18958333]\n",
      " [0.0390625  0.10625   ]\n",
      " [0.109375   0.29375   ]\n",
      " [0.1921875  0.41875   ]]\n",
      "Ratios:\n",
      " [0.34, 0.37, 0.37, 0.46, 0.52]\n"
     ]
    }
   ],
   "source": [
    "XML_PATH = '/extHDD2/person_face/train/xml'\n",
    "CLUSTERS = 5\n",
    "data = load_dataset(XML_PATH)\n",
    "out = kmeans(data, k=CLUSTERS)\n",
    "print(\"Accuracy: {:.2f}%\".format(avg_iou(data, out) * 100))\n",
    "print(\"Boxes:\\n {}\".format(out))\n",
    "\n",
    "ratios = np.around(out[:, 0] / out[:, 1], decimals=2).tolist()\n",
    "print(\"Ratios:\\n {}\".format(sorted(ratios)))"
   ]
  },
  {
   "cell_type": "code",
   "execution_count": null,
   "metadata": {},
   "outputs": [],
   "source": []
  }
 ],
 "metadata": {
  "kernelspec": {
   "display_name": "Python 3",
   "language": "python",
   "name": "python3"
  },
  "language_info": {
   "codemirror_mode": {
    "name": "ipython",
    "version": 3
   },
   "file_extension": ".py",
   "mimetype": "text/x-python",
   "name": "python",
   "nbconvert_exporter": "python",
   "pygments_lexer": "ipython3",
   "version": "3.6.8"
  }
 },
 "nbformat": 4,
 "nbformat_minor": 2
}
